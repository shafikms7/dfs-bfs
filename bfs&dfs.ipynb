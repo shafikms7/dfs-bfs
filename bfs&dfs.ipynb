{
 "cells": [
  {
   "cell_type": "code",
   "execution_count": 14,
   "id": "0eb1d666-a45d-48a6-a1b4-55345679e6d3",
   "metadata": {},
   "outputs": [],
   "source": [
    "graph={\n",
    "    'Sam':['Aaron','Binny'],\n",
    "    'Aaron':['Sam','Christine','Danny'],\n",
    "    'Binny':['Elvin','Flin'],\n",
    "    'Christine':['Aaron'],\n",
    "    'Danny':['Aaron'],\n",
    "    'Elvin':['Binny','Gini'],\n",
    "    'Flin':['Binny'],\n",
    "    'Gini':['Elvin']\n",
    "}\n",
    "    \n",
    "    "
   ]
  },
  {
   "cell_type": "code",
   "execution_count": 10,
   "id": "2229eecd-9ea2-4010-8cc0-c6b69c71c465",
   "metadata": {},
   "outputs": [
    {
     "data": {
      "text/plain": [
       "{'Sam': ['Aaron', 'Binny'],\n",
       " 'Aaron': ['Sam', 'Christine', 'Danny'],\n",
       " 'Binny': ['Elvin', 'Flin'],\n",
       " 'Christine': ['Aaron'],\n",
       " 'Danny': ['Aaron'],\n",
       " 'Elvin': ['Binny', 'Gini'],\n",
       " 'Flin': ['Binny'],\n",
       " 'Gini': ['Elvin']}"
      ]
     },
     "execution_count": 10,
     "metadata": {},
     "output_type": "execute_result"
    }
   ],
   "source": [
    "graph"
   ]
  },
  {
   "cell_type": "code",
   "execution_count": 15,
   "id": "8eb83774-b067-4a7e-81d1-10cd9c47ed0d",
   "metadata": {},
   "outputs": [],
   "source": [
    "from collections import deque\n",
    "def bfs(graph,start,goal):\n",
    "    visited=[]\n",
    "    queue=deque([start])\n",
    "    while queue:\n",
    "        node=queue.popleft()\n",
    "        if node not in visited:\n",
    "            visited.append(node)\n",
    "            print(\"I have visited:\",node)\n",
    "            neighbours=graph[node]\n",
    "            if node==goal:\n",
    "                return(\"I have reached the goal, this is my traversed path:\",visited)\n",
    "            for neighbour in neighbours:\n",
    "                queue.append(neighbour)\n"
   ]
  },
  {
   "cell_type": "code",
   "execution_count": 17,
   "id": "d08a74be-44b4-4b9e-83a0-938445938192",
   "metadata": {},
   "outputs": [
    {
     "name": "stdout",
     "output_type": "stream",
     "text": [
      "I have visited: Binny\n",
      "I have visited: Elvin\n",
      "I have visited: Flin\n",
      "I have visited: Gini\n"
     ]
    },
    {
     "data": {
      "text/plain": [
       "('I have reached the goal, this is my traversed path:',\n",
       " ['Binny', 'Elvin', 'Flin', 'Gini'])"
      ]
     },
     "execution_count": 17,
     "metadata": {},
     "output_type": "execute_result"
    }
   ],
   "source": [
    "bfs(graph,'Binny','Gini')"
   ]
  },
  {
   "cell_type": "code",
   "execution_count": 30,
   "id": "7e5bbb79-9b81-43ae-a1a3-885f46060a7d",
   "metadata": {},
   "outputs": [],
   "source": [
    "def dfs(graph,start,goal,visited):\n",
    "    stack=[start]\n",
    "    while stack:\n",
    "        node=stack.pop()\n",
    "        if node not in visited:\n",
    "            visited.append(node)\n",
    "            if node==goal:\n",
    "                print(visited)\n",
    "            for neighbours in graph [node]:\n",
    "                dfs(graph,neighbours,goal,visited)\n"
   ]
  },
  {
   "cell_type": "code",
   "execution_count": 33,
   "id": "09ca0a00-1d56-43b8-b336-82dc033a8bdb",
   "metadata": {},
   "outputs": [
    {
     "name": "stdout",
     "output_type": "stream",
     "text": [
      "['Aaron', 'Sam', 'Binny', 'Elvin', 'Gini']\n"
     ]
    }
   ],
   "source": [
    "dfs(graph,'Aaron','Gini',[])"
   ]
  },
  {
   "cell_type": "code",
   "execution_count": null,
   "id": "c8eb6efc-6f04-40cc-b224-5c8aabec4e6b",
   "metadata": {},
   "outputs": [],
   "source": [
    "\n"
   ]
  },
  {
   "cell_type": "code",
   "execution_count": null,
   "id": "2bee2ebc-e3d1-4593-b797-1770c8c49e41",
   "metadata": {},
   "outputs": [],
   "source": []
  },
  {
   "cell_type": "code",
   "execution_count": null,
   "id": "0f2aafe2-5974-4604-8ba5-923c64ae44b2",
   "metadata": {},
   "outputs": [],
   "source": []
  }
 ],
 "metadata": {
  "kernelspec": {
   "display_name": "Python 3 (ipykernel)",
   "language": "python",
   "name": "python3"
  },
  "language_info": {
   "codemirror_mode": {
    "name": "ipython",
    "version": 3
   },
   "file_extension": ".py",
   "mimetype": "text/x-python",
   "name": "python",
   "nbconvert_exporter": "python",
   "pygments_lexer": "ipython3",
   "version": "3.9.18"
  }
 },
 "nbformat": 4,
 "nbformat_minor": 5
}
